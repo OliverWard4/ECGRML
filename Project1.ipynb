{
 "cells": [
  {
   "cell_type": "code",
   "execution_count": 2,
   "metadata": {
    "executionInfo": {
     "elapsed": 40,
     "status": "ok",
     "timestamp": 1744151945282,
     "user": {
      "displayName": "Rishita Chawla",
      "userId": "11285374120698214050"
     },
     "user_tz": 240
    },
    "id": "oo0AhrzKbHsk"
   },
   "outputs": [],
   "source": [
    "import pandas as pd\n",
    "import numpy as np\n",
    "import matplotlib.pyplot as plt\n",
    "import seaborn as sns"
   ]
  },
  {
   "cell_type": "code",
   "execution_count": 3,
   "metadata": {
    "executionInfo": {
     "elapsed": 18,
     "status": "ok",
     "timestamp": 1744151947286,
     "user": {
      "displayName": "Rishita Chawla",
      "userId": "11285374120698214050"
     },
     "user_tz": 240
    },
    "id": "eG7yTW9GbWTu"
   },
   "outputs": [],
   "source": [
    "from sklearn.model_selection import train_test_split\n",
    "from sklearn.preprocessing import StandardScaler"
   ]
  },
  {
   "cell_type": "code",
   "execution_count": 4,
   "metadata": {
    "colab": {
     "base_uri": "https://localhost:8080/"
    },
    "executionInfo": {
     "elapsed": 626,
     "status": "ok",
     "timestamp": 1744151949000,
     "user": {
      "displayName": "Rishita Chawla",
      "userId": "11285374120698214050"
     },
     "user_tz": 240
    },
    "id": "5QLEX1QZbbga",
    "outputId": "ccef7407-a6b9-415f-a072-5ac717d0c490"
   },
   "outputs": [
    {
     "ename": "ModuleNotFoundError",
     "evalue": "No module named 'google.colab'",
     "output_type": "error",
     "traceback": [
      "\u001b[1;31m---------------------------------------------------------------------------\u001b[0m",
      "\u001b[1;31mModuleNotFoundError\u001b[0m                       Traceback (most recent call last)",
      "Cell \u001b[1;32mIn[4], line 1\u001b[0m\n\u001b[1;32m----> 1\u001b[0m \u001b[38;5;28;01mfrom\u001b[39;00m \u001b[38;5;21;01mgoogle\u001b[39;00m\u001b[38;5;21;01m.\u001b[39;00m\u001b[38;5;21;01mcolab\u001b[39;00m \u001b[38;5;28;01mimport\u001b[39;00m drive\n\u001b[0;32m      2\u001b[0m drive\u001b[38;5;241m.\u001b[39mmount(\u001b[38;5;124m'\u001b[39m\u001b[38;5;124m/content/drive\u001b[39m\u001b[38;5;124m'\u001b[39m)\n",
      "\u001b[1;31mModuleNotFoundError\u001b[0m: No module named 'google.colab'"
     ]
    }
   ],
   "source": [
    "from google.colab import drive\n",
    "drive.mount('/content/drive')"
   ]
  },
  {
   "cell_type": "code",
   "execution_count": null,
   "metadata": {
    "colab": {
     "base_uri": "https://localhost:8080/"
    },
    "executionInfo": {
     "elapsed": 47,
     "status": "ok",
     "timestamp": 1744151950254,
     "user": {
      "displayName": "Rishita Chawla",
      "userId": "11285374120698214050"
     },
     "user_tz": 240
    },
    "id": "jQQTn16dbkOx",
    "outputId": "9ca0da94-6472-44bb-deaf-bd13b73b5e4d"
   },
   "outputs": [],
   "source": [
    "file_path = \"/content/drive/MyDrive/forestfires.csv\"\n",
    "data = pd.read_csv(file_path) # Use pd.read_csv to read a CSV file\n",
    "print(data.head())"
   ]
  },
  {
   "cell_type": "code",
   "execution_count": 9,
   "metadata": {},
   "outputs": [
    {
     "name": "stdout",
     "output_type": "stream",
     "text": [
      "   X  Y month  day  FFMC   DMC     DC  ISI  temp  RH  wind  rain  area\n",
      "0  7  5   mar  fri  86.2  26.2   94.3  5.1   8.2  51   6.7   0.0   0.0\n",
      "1  7  4   oct  tue  90.6  35.4  669.1  6.7  18.0  33   0.9   0.0   0.0\n",
      "2  7  4   oct  sat  90.6  43.7  686.9  6.7  14.6  33   1.3   0.0   0.0\n",
      "3  8  6   mar  fri  91.7  33.3   77.5  9.0   8.3  97   4.0   0.2   0.0\n",
      "4  8  6   mar  sun  89.3  51.3  102.2  9.6  11.4  99   1.8   0.0   0.0\n"
     ]
    }
   ],
   "source": [
    "data = pd.read_csv(\"forestfires.csv\")\n",
    "print(data.head())"
   ]
  },
  {
   "cell_type": "code",
   "execution_count": 11,
   "metadata": {
    "colab": {
     "base_uri": "https://localhost:8080/"
    },
    "executionInfo": {
     "elapsed": 11,
     "status": "ok",
     "timestamp": 1744151952557,
     "user": {
      "displayName": "Rishita Chawla",
      "userId": "11285374120698214050"
     },
     "user_tz": 240
    },
    "id": "pweFmVWGgtO-",
    "outputId": "ff5dc68f-6d8e-485a-a786-eb09f683829f"
   },
   "outputs": [
    {
     "name": "stdout",
     "output_type": "stream",
     "text": [
      "   X  Y  month  day  FFMC   DMC     DC  ISI  temp  RH  wind  rain  area\n",
      "0  7  5      3    5  86.2  26.2   94.3  5.1   8.2  51   6.7   0.0   0.0\n",
      "1  7  4     10    2  90.6  35.4  669.1  6.7  18.0  33   0.9   0.0   0.0\n",
      "2  7  4     10    6  90.6  43.7  686.9  6.7  14.6  33   1.3   0.0   0.0\n",
      "3  8  6      3    5  91.7  33.3   77.5  9.0   8.3  97   4.0   0.2   0.0\n",
      "4  8  6      3    7  89.3  51.3  102.2  9.6  11.4  99   1.8   0.0   0.0\n"
     ]
    }
   ],
   "source": [
    "# prompt: generate a code that gives months a numerical value from (1-12) and days from (1-7)\n",
    "\n",
    "import pandas as pd\n",
    "import numpy as np\n",
    "# ... (rest of your imports and file reading code)\n",
    "\n",
    "# Create mappings for months and days of the week\n",
    "month_mapping = {\n",
    "    'jan': 1, 'feb': 2, 'mar': 3, 'apr': 4, 'may': 5, 'jun': 6,\n",
    "    'jul': 7, 'aug': 8, 'sep': 9, 'oct': 10, 'nov': 11, 'dec': 12\n",
    "}\n",
    "\n",
    "day_mapping = {\n",
    "    'mon': 1, 'tue': 2, 'wed': 3, 'thu': 4, 'fri': 5, 'sat': 6, 'sun': 7\n",
    "}\n",
    "\n",
    "# Apply the mappings to the DataFrame\n",
    "data['month'] = data['month'].map(month_mapping)\n",
    "data['day'] = data['day'].map(day_mapping)\n",
    "\n",
    "print(data.head())\n"
   ]
  },
  {
   "cell_type": "code",
   "execution_count": 13,
   "metadata": {
    "executionInfo": {
     "elapsed": 10,
     "status": "ok",
     "timestamp": 1744151954753,
     "user": {
      "displayName": "Rishita Chawla",
      "userId": "11285374120698214050"
     },
     "user_tz": 240
    },
    "id": "oERqmnkvihaJ"
   },
   "outputs": [],
   "source": [
    "def prepare_data(features):\n",
    "    X = data[features].values\n",
    "    y = data['area'].values.reshape(-1, 1)\n",
    "    X_train, X_val, y_train, y_val = train_test_split(X, y, test_size=0.2, random_state=42)\n",
    "\n",
    "    scaler = StandardScaler()\n",
    "    X_train = scaler.fit_transform(X_train)\n",
    "    X_val = scaler.transform(X_val)\n",
    "\n",
    "    # Add intercept (bias) term\n",
    "    #X_train = np.hstack([np.ones((X_train.shape[0], 1)), X_train])\n",
    "    #X_val = np.hstack([np.ones((X_val.shape[0], 1)), X_val])\n",
    "\n",
    "    return X_train, X_val, y_train, y_val"
   ]
  },
  {
   "cell_type": "code",
   "execution_count": 15,
   "metadata": {
    "executionInfo": {
     "elapsed": 3,
     "status": "ok",
     "timestamp": 1744151956846,
     "user": {
      "displayName": "Rishita Chawla",
      "userId": "11285374120698214050"
     },
     "user_tz": 240
    },
    "id": "cMhbPzh1ipoY"
   },
   "outputs": [],
   "source": [
    "features = ['X', 'Y', 'month', 'day', 'FFMC', 'DMC', 'DC', 'ISI', 'temp', 'RH', 'wind', 'rain']"
   ]
  },
  {
   "cell_type": "code",
   "execution_count": 17,
   "metadata": {
    "executionInfo": {
     "elapsed": 39,
     "status": "ok",
     "timestamp": 1744152119472,
     "user": {
      "displayName": "Rishita Chawla",
      "userId": "11285374120698214050"
     },
     "user_tz": 240
    },
    "id": "3iH90blhjSoU"
   },
   "outputs": [],
   "source": [
    "X_train, X_val, y_train, y_val = prepare_data(features)"
   ]
  },
  {
   "cell_type": "code",
   "execution_count": 19,
   "metadata": {
    "colab": {
     "base_uri": "https://localhost:8080/"
    },
    "executionInfo": {
     "elapsed": 13,
     "status": "ok",
     "timestamp": 1744152156229,
     "user": {
      "displayName": "Rishita Chawla",
      "userId": "11285374120698214050"
     },
     "user_tz": 240
    },
    "id": "SVvpzhk0jud9",
    "outputId": "fbd6448b-315d-4f25-df15-c1c555c6f43a"
   },
   "outputs": [
    {
     "name": "stdout",
     "output_type": "stream",
     "text": [
      "(413, 13)\n",
      "(104, 13)\n",
      "(413, 1)\n",
      "(104, 1)\n"
     ]
    }
   ],
   "source": [
    "print(X_train.shape)\n",
    "print(X_val.shape)\n",
    "print(y_train.shape)\n",
    "print(y_val.shape)"
   ]
  },
  {
   "cell_type": "code",
   "execution_count": 79,
   "metadata": {},
   "outputs": [],
   "source": [
    "def MSE(y, y_hat):\n",
    "    return np.mean(np.square(y - y_hat))\n",
    "        "
   ]
  },
  {
   "cell_type": "code",
   "execution_count": 81,
   "metadata": {},
   "outputs": [],
   "source": [
    "class RidgeRegression():\n",
    "    \"\"\"\n",
    "        Ridge Regression with Regularization using OLS\n",
    "    \"\"\"\n",
    "\n",
    "\n",
    "    def __init__(self, lamb=0):\n",
    "        self.lamb = lamb  # Regularization parameter\n",
    "        self.w = None      # Will store the learned weights\n",
    "\n",
    "    def fit(self, X, y):\n",
    "        # Number of features (including the bias term)\n",
    "        n_features = X.shape[1]\n",
    "        \n",
    "        # Identity matrix of X with x0 = 0 for bias term\n",
    "        I = np.eye(n_features)\n",
    "        I[0, 0] = 0  # We don't regularize the bias term\n",
    "      \n",
    "        # Ridge regression: w = (X^T * X + lambda * I)^-1 * X^T * y\n",
    "        self.w = np.linalg.pinv(X.T.dot(X) + self.lamb * I) @ X.T @ y\n",
    "    \n",
    "    def predict(self, X):\n",
    "        # Compute the predictions: X @ w\n",
    "        return X @ self.w\n"
   ]
  },
  {
   "cell_type": "code",
   "execution_count": 87,
   "metadata": {},
   "outputs": [
    {
     "name": "stdout",
     "output_type": "stream",
     "text": [
      "2004.135607434498\n"
     ]
    },
    {
     "data": {
      "image/png": "[encoded data removed]",
      "text/plain": [
       "<Figure size 640x480 with 1 Axes>"
      ]
     },
     "metadata": {},
     "output_type": "display_data"
    }
   ],
   "source": [
    "R = RidgeRegression(0)\n",
    "\n",
    "R.fit(X_train, y_train)\n",
    "predictions = R.predict( X_train )\n",
    "#print(y_train.shape)\n",
    "mse = MSE(y_train, predictions) \n",
    "print(mse)\n",
    "\n",
    "plt.title(\"Fitted training data\")\n",
    "plt.plot(X_train, y_train, 'ob')\n",
    "plt.plot(X_train, predictions, '-r', linewidth=2)\n",
    "plt.xlabel(\"X\")\n",
    "plt.ylabel(\"y\")\n",
    "plt.show()"
   ]
  },
  {
   "cell_type": "code",
   "execution_count": null,
   "metadata": {},
   "outputs": [],
   "source": []
  }
 ],
 "metadata": {
  "colab": {
   "authorship_tag": "ABX9TyNneblLIzC0TERzL5q2rEz1",
   "provenance": []
  },
  "kernelspec": {
   "display_name": "Python [conda env:base] *",
   "language": "python",
   "name": "conda-base-py"
  },
  "language_info": {
   "codemirror_mode": {
    "name": "ipython",
    "version": 3
   },
   "file_extension": ".py",
   "mimetype": "text/x-python",
   "name": "python",
   "nbconvert_exporter": "python",
   "pygments_lexer": "ipython3",
   "version": "3.12.7"
  }
 },
 "nbformat": 4,
 "nbformat_minor": 4
}
